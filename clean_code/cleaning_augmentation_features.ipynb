{
 "cells": [
  {
   "cell_type": "code",
   "execution_count": 9,
   "metadata": {},
   "outputs": [],
   "source": [
    "import pandas as pd\n",
    "import numpy as np"
   ]
  },
  {
   "cell_type": "code",
   "execution_count": 10,
   "metadata": {},
   "outputs": [],
   "source": [
    "AML = pd.read_csv('large.csv', index_col = 'cif') \n",
    "labels = pd.read_csv('jeopardy.csv', index_col = 'cif') "
   ]
  },
  {
   "cell_type": "markdown",
   "metadata": {},
   "source": [
    "Removing customers who are not using their account"
   ]
  },
  {
   "cell_type": "code",
   "execution_count": 11,
   "metadata": {},
   "outputs": [],
   "source": [
    "AML = AML[AML['turnover'] > 0]\n",
    "labels = labels.loc[AML.index,]"
   ]
  },
  {
   "cell_type": "markdown",
   "metadata": {},
   "source": [
    "Adding AML and CPI country score"
   ]
  },
  {
   "cell_type": "code",
   "execution_count": 12,
   "metadata": {},
   "outputs": [],
   "source": [
    "# our challenge country-id list\n",
    "country = pd.read_csv('country.csv')\n",
    "country.country_name = country.country_name.str.lower()\n",
    "country.set_index('country_name',inplace=True, drop=True)\n",
    "# downloaded ranking and AWL score for countries\n",
    "country_aml = pd.read_csv('AML_risk_ranking.csv', names = ['Country', 'country_score', 'country_ranking'])\n",
    "country_aml.Country =  country_aml.Country.str.lower()\n",
    "country_aml.set_index('Country',inplace=True, drop=True)\n",
    "# adding AML index and ranking to initial country list\n",
    "country = country.join(country_aml)\n",
    "# adding AML index and ranking to transaction datasource\n",
    "AML = AML.join(country.set_index('country_id'), on = 'nationality')"
   ]
  },
  {
   "cell_type": "code",
   "execution_count": 14,
   "metadata": {},
   "outputs": [],
   "source": [
    "# downloaded corruption_index_cross-over for countries\n",
    "corr_index = pd.read_csv('corruption_index_cross-over.csv')\n",
    "corr_index_df = corr_index[['country_id', 'country_name', 'CPI Score 2018', 'Rank']]\n",
    "# adding CPI index and ranking to transaction datasource\n",
    "AML = AML.join(corr_index_df.set_index('country_id'), on = 'nationality')"
   ]
  },
  {
   "cell_type": "code",
   "execution_count": 15,
   "metadata": {},
   "outputs": [],
   "source": [
    "#Rename scoring and ranking columns\n",
    "AML.rename(columns={\"country_score\": \"aml_risk_score\", \n",
    "                    \"country_ranking\": \"aml_risk_ranking\", \n",
    "                    \"CPI Score 2018\": \"cpi_risk_score\", \n",
    "                    \"Rank\": \"cpi_risk_ranking\"}, inplace = True)"
   ]
  },
  {
   "cell_type": "markdown",
   "metadata": {},
   "source": [
    "Adding normalized and logged features"
   ]
  },
  {
   "cell_type": "code",
   "execution_count": 16,
   "metadata": {},
   "outputs": [],
   "source": [
    "# adding normalized atm_features\n",
    "AML['atm_withdrawal_norm'] = AML['atm_withdrawal']/AML['turnover']\n",
    "AML['atm_deposit_norm'] = AML['atm_deposit']/AML['turnover']\n",
    "AML['transaction_avg'] = AML['turnover']/AML['transaction_count']\n",
    "#logging features\n",
    "AML['turnover_log'] = np.log10(1+AML['turnover'])\n",
    "AML['atm_withdrawal_log'] = np.log10(1+AML['atm_withdrawal'])\n",
    "AML['atm_deposit_log'] = np.log10(1+AML['atm_deposit'])\n",
    "AML['transaction_count_log'] = np.log10(1+AML['transaction_count'])\n",
    "AML['distinct_counterparties_log'] = np.log10(1+AML['distinct_counterparties'])\n",
    "AML['atm_withdrawal_norm_log'] = np.log10(1+AML['atm_withdrawal_norm'])\n",
    "AML['atm_deposit_norm_log'] = np.log10(1+AML['atm_deposit_norm'])\n",
    "AML['inactive_days_average_log'] = np.log10(1+AML['inactive_days_average'])"
   ]
  },
  {
   "cell_type": "markdown",
   "metadata": {},
   "source": [
    "Adding new categorie"
   ]
  },
  {
   "cell_type": "code",
   "execution_count": 17,
   "metadata": {},
   "outputs": [],
   "source": [
    "AML['new_category'] = AML['category']\n",
    "AML.loc[AML['is_pep']==1, 'new_category']=3"
   ]
  },
  {
   "cell_type": "markdown",
   "metadata": {},
   "source": [
    "Adding new names for categories"
   ]
  },
  {
   "cell_type": "code",
   "execution_count": 18,
   "metadata": {},
   "outputs": [],
   "source": [
    "AML[\"category_name\"] = ''\n",
    "AML.loc[AML.new_category == 0, 'category_name'] = 'normal_ind'\n",
    "AML.loc[AML.new_category == 3, 'category_name'] = 'pep_ind'\n",
    "AML.loc[AML.new_category == 1, 'category_name'] = 'company'\n",
    "AML.loc[AML.new_category == 2, 'category_name'] = 'institution'"
   ]
  },
  {
   "cell_type": "markdown",
   "metadata": {},
   "source": [
    "Adding new columns about not using ATM"
   ]
  },
  {
   "cell_type": "code",
   "execution_count": 19,
   "metadata": {},
   "outputs": [],
   "source": [
    "AML['no_atm_deposit'] = 0\n",
    "AML.loc[AML['atm_deposit']==0, 'no_atm_deposit']=1\n",
    "\n",
    "AML['no_atm_withdrawal'] = 0\n",
    "AML.loc[AML['atm_withdrawal']==0, 'no_atm_withdrawal']=1"
   ]
  },
  {
   "cell_type": "code",
   "execution_count": 20,
   "metadata": {},
   "outputs": [],
   "source": [
    "AML.to_csv('large_cleaned.csv')"
   ]
  }
 ],
 "metadata": {
  "kernelspec": {
   "display_name": "Python 3",
   "language": "python",
   "name": "python3"
  },
  "language_info": {
   "codemirror_mode": {
    "name": "ipython",
    "version": 3
   },
   "file_extension": ".py",
   "mimetype": "text/x-python",
   "name": "python",
   "nbconvert_exporter": "python",
   "pygments_lexer": "ipython3",
   "version": "3.7.4"
  }
 },
 "nbformat": 4,
 "nbformat_minor": 4
}
