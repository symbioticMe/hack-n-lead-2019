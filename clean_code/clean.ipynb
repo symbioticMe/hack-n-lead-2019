{
 "cells": [
  {
   "cell_type": "code",
   "execution_count": 2,
   "metadata": {},
   "outputs": [],
   "source": [
    "import pandas as pd\n",
    "import numpy as np"
   ]
  },
  {
   "cell_type": "code",
   "execution_count": 27,
   "metadata": {},
   "outputs": [],
   "source": [
    "AML = pd.read_csv('large.csv', index_col = 'cif') "
   ]
  },
  {
   "cell_type": "markdown",
   "metadata": {},
   "source": [
    "Removing customers who are not using their account"
   ]
  },
  {
   "cell_type": "code",
   "execution_count": 28,
   "metadata": {},
   "outputs": [],
   "source": [
    "AML = AML[AML['turnover'] > 0]"
   ]
  },
  {
   "cell_type": "markdown",
   "metadata": {},
   "source": [
    "Adding AML country score"
   ]
  },
  {
   "cell_type": "code",
   "execution_count": 29,
   "metadata": {},
   "outputs": [],
   "source": [
    "# our challenge country-id list\n",
    "country = pd.read_csv('country.csv')\n",
    "country.country_name = country.country_name.str.lower()\n",
    "country.set_index('country_name',inplace=True, drop=True)\n",
    "# downloaded ranking and AWL score for countries\n",
    "country_aml = pd.read_csv('AML_risk_ranking.csv', names = ['Country', 'country_score', 'country_ranking'])\n",
    "country_aml.Country =  country_aml.Country.str.lower()\n",
    "country_aml.set_index('Country',inplace=True, drop=True)\n",
    "# adding AML index and ranking to initial country list\n",
    "country = country.join(country_aml)\n",
    "# adding AML index and ranking to transaction datasource\n",
    "AML = AML.join(country.set_index('country_id'), on = 'nationality')"
   ]
  },
  {
   "cell_type": "markdown",
   "metadata": {},
   "source": [
    "Adding normalized and logged features"
   ]
  },
  {
   "cell_type": "code",
   "execution_count": 30,
   "metadata": {},
   "outputs": [],
   "source": [
    "# adding normalized atm_features\n",
    "AML['atm_withdrawal_norm'] = AML['atm_withdrawal']/AML['turnover']\n",
    "AML['atm_deposit_norm'] = AML['atm_deposit']/AML['turnover']\n",
    "AML['transaction_avg'] = AML['turnover']/AML['transaction_count']\n",
    "#logging features\n",
    "AML['turnover_log'] = np.log10(1+AML['turnover'])\n",
    "AML['atm_withdrawal_log'] = np.log10(1+AML['atm_withdrawal'])\n",
    "AML['atm_deposit_log'] = np.log10(1+AML['atm_deposit'])\n",
    "AML['transaction_count_log'] = np.log10(1+AML['transaction_count'])\n",
    "AML['distinct_counterparties_log'] = np.log10(1+AML['distinct_counterparties'])\n",
    "AML['atm_withdrawal_norm_log'] = np.log10(1+AML['atm_withdrawal_norm'])\n",
    "AML['atm_deposit_norm_log'] = np.log10(1+AML['atm_deposit_norm'])"
   ]
  },
  {
   "cell_type": "markdown",
   "metadata": {},
   "source": [
    "Adding new categorie"
   ]
  },
  {
   "cell_type": "code",
   "execution_count": 13,
   "metadata": {},
   "outputs": [],
   "source": [
    "AML['new_category'] = AML['category']\n",
    "for idx, row in AML.iterrows():\n",
    "    if AML.loc[idx, ('is_pep')] == 1:\n",
    "        AML.loc[idx, ('new_category')] = 3"
   ]
  },
  {
   "cell_type": "markdown",
   "metadata": {},
   "source": [
    "Adding new names for categories"
   ]
  },
  {
   "cell_type": "code",
   "execution_count": null,
   "metadata": {},
   "outputs": [],
   "source": []
  },
  {
   "cell_type": "code",
   "execution_count": null,
   "metadata": {},
   "outputs": [],
   "source": []
  }
 ],
 "metadata": {
  "kernelspec": {
   "display_name": "Python 3",
   "language": "python",
   "name": "python3"
  },
  "language_info": {
   "codemirror_mode": {
    "name": "ipython",
    "version": 3
   },
   "file_extension": ".py",
   "mimetype": "text/x-python",
   "name": "python",
   "nbconvert_exporter": "python",
   "pygments_lexer": "ipython3",
   "version": "3.7.4"
  }
 },
 "nbformat": 4,
 "nbformat_minor": 2
}
