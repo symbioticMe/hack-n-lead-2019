{
 "cells": [
  {
   "cell_type": "code",
   "execution_count": 11,
   "metadata": {},
   "outputs": [],
   "source": [
    "import pandas as pd\n",
    "import numpy as np"
   ]
  },
  {
   "cell_type": "code",
   "execution_count": 12,
   "metadata": {},
   "outputs": [],
   "source": [
    "AML = pd.read_csv('../data/large.csv', index_col = 'cif') "
   ]
  },
  {
   "cell_type": "markdown",
   "metadata": {},
   "source": [
    "Removing customers who are not using their account"
   ]
  },
  {
   "cell_type": "code",
   "execution_count": 13,
   "metadata": {},
   "outputs": [],
   "source": [
    "AML = AML[AML['turnover'] > 0]"
   ]
  },
  {
   "cell_type": "markdown",
   "metadata": {},
   "source": [
    "Adding AML country score"
   ]
  },
  {
   "cell_type": "code",
   "execution_count": 14,
   "metadata": {},
   "outputs": [
    {
     "name": "stdout",
     "output_type": "stream",
     "text": [
      "['large.csv', 'small.csv', 'jeopardy.csv', 'country.csv', 'AML_risk_ranking.csv']\n"
     ]
    }
   ],
   "source": [
    "import os\n",
    "\n",
    "path = os.listdir('../data')\n",
    "\n",
    "print(path)"
   ]
  },
  {
   "cell_type": "code",
   "execution_count": 15,
   "metadata": {},
   "outputs": [],
   "source": [
    "# our challenge country-id list\n",
    "country = pd.read_csv('../data/country.csv')\n",
    "country.country_name = country.country_name.str.lower()\n",
    "country.set_index('country_name',inplace=True, drop=True)\n",
    "# downloaded ranking and AWL score for countries\n",
    "country_aml = pd.read_csv('../data/AML_risk_ranking.csv', names = ['Country', 'country_score', 'country_ranking'])\n",
    "country_aml.Country =  country_aml.Country.str.lower()\n",
    "country_aml.set_index('Country',inplace=True, drop=True)\n",
    "# adding AML index and ranking to initial country list\n",
    "country = country.join(country_aml)\n",
    "# adding AML index and ranking to transaction datasource\n",
    "AML = AML.join(country.set_index('country_id'), on = 'nationality')"
   ]
  },
  {
   "cell_type": "markdown",
   "metadata": {},
   "source": [
    "Adding normalized and logged features"
   ]
  },
  {
   "cell_type": "code",
   "execution_count": 16,
   "metadata": {},
   "outputs": [],
   "source": [
    "# adding normalized atm_features\n",
    "AML['atm_withdrawal_norm'] = AML['atm_withdrawal']/AML['turnover']\n",
    "AML['atm_deposit_norm'] = AML['atm_deposit']/AML['turnover']\n",
    "AML['transaction_avg'] = AML['turnover']/AML['transaction_count']\n",
    "#logging features\n",
    "AML['turnover_log'] = np.log10(1+AML['turnover'])\n",
    "AML['atm_withdrawal_log'] = np.log10(1+AML['atm_withdrawal'])\n",
    "AML['atm_deposit_log'] = np.log10(1+AML['atm_deposit'])\n",
    "AML['transaction_count_log'] = np.log10(1+AML['transaction_count'])\n",
    "AML['distinct_counterparties_log'] = np.log10(1+AML['distinct_counterparties'])\n",
    "AML['atm_withdrawal_norm_log'] = np.log10(1+AML['atm_withdrawal_norm'])\n",
    "AML['atm_deposit_norm_log'] = np.log10(1+AML['atm_deposit_norm'])\n",
    "AML['inactive_days_average_log'] = np.log10(1+AML['inactive_days_average'])"
   ]
  },
  {
   "cell_type": "markdown",
   "metadata": {},
   "source": [
    "Adding new categorie"
   ]
  },
  {
   "cell_type": "code",
   "execution_count": 17,
   "metadata": {},
   "outputs": [],
   "source": [
    "AML['new_category'] = AML['category']\n",
    "AML.loc[AML['is_pep']==1, 'new_category']=3"
   ]
  },
  {
   "cell_type": "markdown",
   "metadata": {},
   "source": [
    "Adding new names for categories"
   ]
  },
  {
   "cell_type": "code",
   "execution_count": 18,
   "metadata": {},
   "outputs": [],
   "source": [
    "AML[\"category_name\"] = ''\n",
    "AML.loc[AML.new_category == 0, 'category_name'] = 'normal_ind'\n",
    "AML.loc[AML.new_category == 3, 'category_name'] = 'pep_ind'\n",
    "AML.loc[AML.new_category == 1, 'category_name'] = 'company'\n",
    "AML.loc[AML.new_category == 2, 'category_name'] = 'institution'"
   ]
  },
  {
   "cell_type": "markdown",
   "metadata": {},
   "source": [
    "Adding new columns about not using ATM"
   ]
  },
  {
   "cell_type": "code",
   "execution_count": 19,
   "metadata": {},
   "outputs": [],
   "source": [
    "AML['no_atm_deposit'] = 0\n",
    "AML.loc[AML['atm_deposit']==0, 'no_atm_deposit']=1\n",
    "\n",
    "AML['no_atm_withdrawal'] = 0\n",
    "AML.loc[AML['atm_withdrawal']==0, 'no_atm_withdrawal']=1"
   ]
  },
  {
   "cell_type": "code",
   "execution_count": 25,
   "metadata": {},
   "outputs": [],
   "source": [
    "export_csv = AML.to_csv('../data/cleaned_data.csv')"
   ]
  },
  {
   "cell_type": "code",
   "execution_count": 23,
   "metadata": {},
   "outputs": [],
   "source": [
    "labels = pd.read_csv('../data/Corruption_Index_Cross-Over.csv', \n",
    "                     names = ['country_id','country_name','CPI Score 2018','Rank'])"
   ]
  },
  {
   "cell_type": "code",
   "execution_count": 26,
   "metadata": {},
   "outputs": [
    {
     "data": {
      "text/plain": [
       "['country_id', 'country_name', 'CPI Score 2018', 'Rank']"
      ]
     },
     "execution_count": 26,
     "metadata": {},
     "output_type": "execute_result"
    }
   ],
   "source": [
    "list(labels.columns) "
   ]
  }
 ],
 "metadata": {
  "kernelspec": {
   "display_name": "Python 3",
   "language": "python",
   "name": "python3"
  },
  "language_info": {
   "codemirror_mode": {
    "name": "ipython",
    "version": 3
   },
   "file_extension": ".py",
   "mimetype": "text/x-python",
   "name": "python",
   "nbconvert_exporter": "python",
   "pygments_lexer": "ipython3",
   "version": "3.7.3"
  }
 },
 "nbformat": 4,
 "nbformat_minor": 2
}
