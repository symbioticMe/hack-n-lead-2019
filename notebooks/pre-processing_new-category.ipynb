{
 "cells": [
  {
   "cell_type": "markdown",
   "metadata": {},
   "source": [
    "# Data pre-processing\n",
    "# Add category of 'publicly exposed person' in new column 'new_category'"
   ]
  },
  {
   "cell_type": "markdown",
   "metadata": {},
   "source": [
    "## Import libraries"
   ]
  },
  {
   "cell_type": "code",
   "execution_count": 1,
   "metadata": {},
   "outputs": [],
   "source": [
    "import pandas as pd\n",
    "import numpy as np"
   ]
  },
  {
   "cell_type": "markdown",
   "metadata": {},
   "source": [
    "## Import Dataset"
   ]
  },
  {
   "cell_type": "code",
   "execution_count": 2,
   "metadata": {},
   "outputs": [],
   "source": [
    "data = pd.read_csv('large.csv', index_col = 0)"
   ]
  },
  {
   "cell_type": "code",
   "execution_count": 3,
   "metadata": {},
   "outputs": [
    {
     "data": {
      "text/html": [
       "<div>\n",
       "<style scoped>\n",
       "    .dataframe tbody tr th:only-of-type {\n",
       "        vertical-align: middle;\n",
       "    }\n",
       "\n",
       "    .dataframe tbody tr th {\n",
       "        vertical-align: top;\n",
       "    }\n",
       "\n",
       "    .dataframe thead th {\n",
       "        text-align: right;\n",
       "    }\n",
       "</style>\n",
       "<table border=\"1\" class=\"dataframe\">\n",
       "  <thead>\n",
       "    <tr style=\"text-align: right;\">\n",
       "      <th></th>\n",
       "      <th>category</th>\n",
       "      <th>turnover</th>\n",
       "      <th>transaction_count</th>\n",
       "      <th>io_ratio</th>\n",
       "      <th>age</th>\n",
       "      <th>nationality</th>\n",
       "      <th>is_pep</th>\n",
       "      <th>inactive_days_average</th>\n",
       "      <th>inactive_days_max</th>\n",
       "      <th>n_of_accounts</th>\n",
       "      <th>distinct_counterparties</th>\n",
       "      <th>channel_risk</th>\n",
       "      <th>atm_withdrawal</th>\n",
       "      <th>atm_deposit</th>\n",
       "    </tr>\n",
       "    <tr>\n",
       "      <th>cif</th>\n",
       "      <th></th>\n",
       "      <th></th>\n",
       "      <th></th>\n",
       "      <th></th>\n",
       "      <th></th>\n",
       "      <th></th>\n",
       "      <th></th>\n",
       "      <th></th>\n",
       "      <th></th>\n",
       "      <th></th>\n",
       "      <th></th>\n",
       "      <th></th>\n",
       "      <th></th>\n",
       "      <th></th>\n",
       "    </tr>\n",
       "  </thead>\n",
       "  <tbody>\n",
       "    <tr>\n",
       "      <td>90000000</td>\n",
       "      <td>0</td>\n",
       "      <td>217673.05</td>\n",
       "      <td>125</td>\n",
       "      <td>0.304000</td>\n",
       "      <td>40</td>\n",
       "      <td>123</td>\n",
       "      <td>0</td>\n",
       "      <td>1.66</td>\n",
       "      <td>88</td>\n",
       "      <td>1</td>\n",
       "      <td>3</td>\n",
       "      <td>0.254742</td>\n",
       "      <td>1937.15</td>\n",
       "      <td>2161.790028</td>\n",
       "    </tr>\n",
       "    <tr>\n",
       "      <td>90000001</td>\n",
       "      <td>0</td>\n",
       "      <td>57.42</td>\n",
       "      <td>20</td>\n",
       "      <td>0.250000</td>\n",
       "      <td>17</td>\n",
       "      <td>90</td>\n",
       "      <td>0</td>\n",
       "      <td>7.32</td>\n",
       "      <td>88</td>\n",
       "      <td>4</td>\n",
       "      <td>6</td>\n",
       "      <td>0.393174</td>\n",
       "      <td>4.96</td>\n",
       "      <td>0.893866</td>\n",
       "    </tr>\n",
       "    <tr>\n",
       "      <td>90000002</td>\n",
       "      <td>0</td>\n",
       "      <td>1465076.90</td>\n",
       "      <td>1</td>\n",
       "      <td>0.000000</td>\n",
       "      <td>66</td>\n",
       "      <td>123</td>\n",
       "      <td>0</td>\n",
       "      <td>24.08</td>\n",
       "      <td>25</td>\n",
       "      <td>2</td>\n",
       "      <td>1</td>\n",
       "      <td>0.422991</td>\n",
       "      <td>0.00</td>\n",
       "      <td>229.333494</td>\n",
       "    </tr>\n",
       "    <tr>\n",
       "      <td>90000003</td>\n",
       "      <td>0</td>\n",
       "      <td>429840.54</td>\n",
       "      <td>46</td>\n",
       "      <td>0.239130</td>\n",
       "      <td>43</td>\n",
       "      <td>90</td>\n",
       "      <td>0</td>\n",
       "      <td>3.88</td>\n",
       "      <td>86</td>\n",
       "      <td>2</td>\n",
       "      <td>17</td>\n",
       "      <td>0.296019</td>\n",
       "      <td>43123.33</td>\n",
       "      <td>3121.939606</td>\n",
       "    </tr>\n",
       "    <tr>\n",
       "      <td>90000004</td>\n",
       "      <td>2</td>\n",
       "      <td>93356190.65</td>\n",
       "      <td>63</td>\n",
       "      <td>0.365079</td>\n",
       "      <td>0</td>\n",
       "      <td>186</td>\n",
       "      <td>0</td>\n",
       "      <td>2.77</td>\n",
       "      <td>100</td>\n",
       "      <td>1</td>\n",
       "      <td>1</td>\n",
       "      <td>0.067511</td>\n",
       "      <td>1814340.25</td>\n",
       "      <td>603026.545700</td>\n",
       "    </tr>\n",
       "  </tbody>\n",
       "</table>\n",
       "</div>"
      ],
      "text/plain": [
       "          category     turnover  transaction_count  io_ratio  age  \\\n",
       "cif                                                                 \n",
       "90000000         0    217673.05                125  0.304000   40   \n",
       "90000001         0        57.42                 20  0.250000   17   \n",
       "90000002         0   1465076.90                  1  0.000000   66   \n",
       "90000003         0    429840.54                 46  0.239130   43   \n",
       "90000004         2  93356190.65                 63  0.365079    0   \n",
       "\n",
       "          nationality  is_pep  inactive_days_average  inactive_days_max  \\\n",
       "cif                                                                       \n",
       "90000000          123       0                   1.66                 88   \n",
       "90000001           90       0                   7.32                 88   \n",
       "90000002          123       0                  24.08                 25   \n",
       "90000003           90       0                   3.88                 86   \n",
       "90000004          186       0                   2.77                100   \n",
       "\n",
       "          n_of_accounts  distinct_counterparties  channel_risk  \\\n",
       "cif                                                              \n",
       "90000000              1                        3      0.254742   \n",
       "90000001              4                        6      0.393174   \n",
       "90000002              2                        1      0.422991   \n",
       "90000003              2                       17      0.296019   \n",
       "90000004              1                        1      0.067511   \n",
       "\n",
       "          atm_withdrawal    atm_deposit  \n",
       "cif                                      \n",
       "90000000         1937.15    2161.790028  \n",
       "90000001            4.96       0.893866  \n",
       "90000002            0.00     229.333494  \n",
       "90000003        43123.33    3121.939606  \n",
       "90000004      1814340.25  603026.545700  "
      ]
     },
     "execution_count": 3,
     "metadata": {},
     "output_type": "execute_result"
    }
   ],
   "source": [
    "data.head()"
   ]
  },
  {
   "cell_type": "code",
   "execution_count": 4,
   "metadata": {},
   "outputs": [
    {
     "name": "stdout",
     "output_type": "stream",
     "text": [
      "<class 'pandas.core.frame.DataFrame'>\n",
      "Int64Index: 1000000 entries, 90000000 to 90999999\n",
      "Data columns (total 14 columns):\n",
      "category                   1000000 non-null int64\n",
      "turnover                   1000000 non-null float64\n",
      "transaction_count          1000000 non-null int64\n",
      "io_ratio                   1000000 non-null float64\n",
      "age                        1000000 non-null int64\n",
      "nationality                1000000 non-null int64\n",
      "is_pep                     1000000 non-null int64\n",
      "inactive_days_average      1000000 non-null float64\n",
      "inactive_days_max          1000000 non-null int64\n",
      "n_of_accounts              1000000 non-null int64\n",
      "distinct_counterparties    1000000 non-null int64\n",
      "channel_risk               1000000 non-null float64\n",
      "atm_withdrawal             1000000 non-null float64\n",
      "atm_deposit                1000000 non-null float64\n",
      "dtypes: float64(6), int64(8)\n",
      "memory usage: 114.4 MB\n"
     ]
    }
   ],
   "source": [
    "data.info()"
   ]
  },
  {
   "cell_type": "code",
   "execution_count": 5,
   "metadata": {},
   "outputs": [
    {
     "name": "stdout",
     "output_type": "stream",
     "text": [
      "category                   0\n",
      "turnover                   0\n",
      "transaction_count          0\n",
      "io_ratio                   0\n",
      "age                        0\n",
      "nationality                0\n",
      "is_pep                     0\n",
      "inactive_days_average      0\n",
      "inactive_days_max          0\n",
      "n_of_accounts              0\n",
      "distinct_counterparties    0\n",
      "channel_risk               0\n",
      "atm_withdrawal             0\n",
      "atm_deposit                0\n",
      "dtype: int64\n"
     ]
    }
   ],
   "source": [
    "print(data.isna().sum())"
   ]
  },
  {
   "cell_type": "markdown",
   "metadata": {},
   "source": [
    "## Add category of 'publicly exposed person' in new column 'new_category'\n",
    "\n",
    "- 0: Normal individual   \n",
    "- 1: Company   \n",
    "- 2: Other institution   \n",
    "- 3: is_pep individual   \n"
   ]
  },
  {
   "cell_type": "code",
   "execution_count": 6,
   "metadata": {},
   "outputs": [
    {
     "data": {
      "text/plain": [
       "0    993149\n",
       "1      6851\n",
       "Name: is_pep, dtype: int64"
      ]
     },
     "execution_count": 6,
     "metadata": {},
     "output_type": "execute_result"
    }
   ],
   "source": [
    "data['is_pep'].value_counts()"
   ]
  },
  {
   "cell_type": "code",
   "execution_count": 7,
   "metadata": {},
   "outputs": [
    {
     "data": {
      "text/plain": [
       "0    699757\n",
       "1    199956\n",
       "2    100287\n",
       "Name: category, dtype: int64"
      ]
     },
     "execution_count": 7,
     "metadata": {},
     "output_type": "execute_result"
    }
   ],
   "source": [
    "data['category'].value_counts()"
   ]
  },
  {
   "cell_type": "code",
   "execution_count": 8,
   "metadata": {},
   "outputs": [],
   "source": [
    "data['new_category'] = data['category']"
   ]
  },
  {
   "cell_type": "code",
   "execution_count": 9,
   "metadata": {},
   "outputs": [],
   "source": [
    "for idx, row in data.iterrows():\n",
    "    if data.loc[idx, ('is_pep')] == 1:\n",
    "        data.loc[idx, ('new_category')] = 3"
   ]
  },
  {
   "cell_type": "code",
   "execution_count": 10,
   "metadata": {},
   "outputs": [
    {
     "data": {
      "text/plain": [
       "0    692906\n",
       "1    199956\n",
       "2    100287\n",
       "3      6851\n",
       "Name: new_category, dtype: int64"
      ]
     },
     "execution_count": 10,
     "metadata": {},
     "output_type": "execute_result"
    }
   ],
   "source": [
    "data['new_category'].value_counts()"
   ]
  },
  {
   "cell_type": "markdown",
   "metadata": {},
   "source": [
    "## Save new dataframe"
   ]
  },
  {
   "cell_type": "code",
   "execution_count": 11,
   "metadata": {},
   "outputs": [],
   "source": [
    "data.to_csv('large_new_category.csv')"
   ]
  }
 ],
 "metadata": {
  "kernelspec": {
   "display_name": "Python 3",
   "language": "python",
   "name": "python3"
  },
  "language_info": {
   "codemirror_mode": {
    "name": "ipython",
    "version": 3
   },
   "file_extension": ".py",
   "mimetype": "text/x-python",
   "name": "python",
   "nbconvert_exporter": "python",
   "pygments_lexer": "ipython3",
   "version": "3.7.4"
  }
 },
 "nbformat": 4,
 "nbformat_minor": 4
}
