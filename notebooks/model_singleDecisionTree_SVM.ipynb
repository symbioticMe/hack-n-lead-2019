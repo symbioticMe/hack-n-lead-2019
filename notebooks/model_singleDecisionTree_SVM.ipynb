{
 "cells": [
  {
   "cell_type": "markdown",
   "metadata": {},
   "source": [
    "# Modelling"
   ]
  },
  {
   "cell_type": "markdown",
   "metadata": {},
   "source": [
    "## Library imports"
   ]
  },
  {
   "cell_type": "code",
   "execution_count": 51,
   "metadata": {},
   "outputs": [],
   "source": [
    "import pandas as pd\n",
    "from sklearn.svm import SVC\n",
    "\n",
    "from sklearn.tree import DecisionTreeClassifier # Import Decision Tree Classifier\n",
    "from sklearn.model_selection import train_test_split # Import train_test_split function\n",
    "from sklearn import metrics\n",
    "\n",
    "from sklearn.utils import resample\n",
    "from sklearn.utils import shuffle\n",
    "from sklearn.model_selection import cross_val_score\n",
    "from sklearn.metrics import classification_report\n",
    "\n",
    "from sklearn import tree"
   ]
  },
  {
   "cell_type": "code",
   "execution_count": 3,
   "metadata": {},
   "outputs": [],
   "source": [
    "import matplotlib.pyplot as plt\n",
    "import seaborn as sns"
   ]
  },
  {
   "cell_type": "markdown",
   "metadata": {},
   "source": [
    "## Load dataset"
   ]
  },
  {
   "cell_type": "code",
   "execution_count": 5,
   "metadata": {},
   "outputs": [],
   "source": [
    "X = pd.read_csv(\"large_cleaned.csv\", index_col = 0)"
   ]
  },
  {
   "cell_type": "code",
   "execution_count": 6,
   "metadata": {},
   "outputs": [
    {
     "data": {
      "text/plain": [
       "Index(['category', 'turnover', 'transaction_count', 'io_ratio', 'age',\n",
       "       'nationality', 'is_pep', 'inactive_days_average', 'inactive_days_max',\n",
       "       'n_of_accounts', 'distinct_counterparties', 'channel_risk',\n",
       "       'atm_withdrawal', 'atm_deposit', 'aml_risk_score', 'aml_risk_ranking',\n",
       "       'country_name', 'cpi_risk_score', 'cpi_risk_ranking',\n",
       "       'atm_withdrawal_norm', 'atm_deposit_norm', 'transaction_avg',\n",
       "       'turnover_log', 'atm_withdrawal_log', 'atm_deposit_log',\n",
       "       'transaction_count_log', 'distinct_counterparties_log',\n",
       "       'atm_withdrawal_norm_log', 'atm_deposit_norm_log',\n",
       "       'inactive_days_average_log', 'new_category', 'category_name',\n",
       "       'no_atm_deposit', 'no_atm_withdrawal'],\n",
       "      dtype='object')"
      ]
     },
     "execution_count": 6,
     "metadata": {},
     "output_type": "execute_result"
    }
   ],
   "source": [
    "X.columns"
   ]
  },
  {
   "cell_type": "code",
   "execution_count": 7,
   "metadata": {},
   "outputs": [],
   "source": [
    "X.drop(['category', 'turnover', 'transaction_count', 'nationality', 'is_pep', \n",
    "        'n_of_accounts', 'category_name', 'inactive_days_average', 'inactive_days_max',\n",
    "       'distinct_counterparties', 'atm_withdrawal', 'atm_deposit', 'transaction_avg', \n",
    "        'cpi_risk_ranking', 'aml_risk_ranking', 'country_name'], axis = 1, inplace = True)"
   ]
  },
  {
   "cell_type": "code",
   "execution_count": 8,
   "metadata": {},
   "outputs": [
    {
     "data": {
      "text/plain": [
       "Index(['io_ratio', 'age', 'channel_risk', 'aml_risk_score', 'cpi_risk_score',\n",
       "       'atm_withdrawal_norm', 'atm_deposit_norm', 'turnover_log',\n",
       "       'atm_withdrawal_log', 'atm_deposit_log', 'transaction_count_log',\n",
       "       'distinct_counterparties_log', 'atm_withdrawal_norm_log',\n",
       "       'atm_deposit_norm_log', 'inactive_days_average_log', 'new_category',\n",
       "       'no_atm_deposit', 'no_atm_withdrawal'],\n",
       "      dtype='object')"
      ]
     },
     "execution_count": 8,
     "metadata": {},
     "output_type": "execute_result"
    }
   ],
   "source": [
    "X.columns"
   ]
  },
  {
   "cell_type": "code",
   "execution_count": 9,
   "metadata": {},
   "outputs": [],
   "source": [
    "X.fillna(0, inplace = True)"
   ]
  },
  {
   "cell_type": "code",
   "execution_count": 13,
   "metadata": {},
   "outputs": [
    {
     "data": {
      "text/html": [
       "<div>\n",
       "<style scoped>\n",
       "    .dataframe tbody tr th:only-of-type {\n",
       "        vertical-align: middle;\n",
       "    }\n",
       "\n",
       "    .dataframe tbody tr th {\n",
       "        vertical-align: top;\n",
       "    }\n",
       "\n",
       "    .dataframe thead th {\n",
       "        text-align: right;\n",
       "    }\n",
       "</style>\n",
       "<table border=\"1\" class=\"dataframe\">\n",
       "  <thead>\n",
       "    <tr style=\"text-align: right;\">\n",
       "      <th></th>\n",
       "      <th>io_ratio</th>\n",
       "      <th>age</th>\n",
       "      <th>channel_risk</th>\n",
       "      <th>aml_risk_score</th>\n",
       "      <th>cpi_risk_score</th>\n",
       "      <th>atm_withdrawal_norm</th>\n",
       "      <th>atm_deposit_norm</th>\n",
       "      <th>turnover_log</th>\n",
       "      <th>atm_withdrawal_log</th>\n",
       "      <th>atm_deposit_log</th>\n",
       "      <th>transaction_count_log</th>\n",
       "      <th>distinct_counterparties_log</th>\n",
       "      <th>atm_withdrawal_norm_log</th>\n",
       "      <th>atm_deposit_norm_log</th>\n",
       "      <th>inactive_days_average_log</th>\n",
       "      <th>new_category</th>\n",
       "      <th>no_atm_deposit</th>\n",
       "      <th>no_atm_withdrawal</th>\n",
       "    </tr>\n",
       "    <tr>\n",
       "      <th>cif</th>\n",
       "      <th></th>\n",
       "      <th></th>\n",
       "      <th></th>\n",
       "      <th></th>\n",
       "      <th></th>\n",
       "      <th></th>\n",
       "      <th></th>\n",
       "      <th></th>\n",
       "      <th></th>\n",
       "      <th></th>\n",
       "      <th></th>\n",
       "      <th></th>\n",
       "      <th></th>\n",
       "      <th></th>\n",
       "      <th></th>\n",
       "      <th></th>\n",
       "      <th></th>\n",
       "      <th></th>\n",
       "    </tr>\n",
       "  </thead>\n",
       "  <tbody>\n",
       "    <tr>\n",
       "      <td>90000000</td>\n",
       "      <td>0.304000</td>\n",
       "      <td>40</td>\n",
       "      <td>0.254742</td>\n",
       "      <td>0.00</td>\n",
       "      <td>53.0</td>\n",
       "      <td>0.008899</td>\n",
       "      <td>0.009931</td>\n",
       "      <td>5.337807</td>\n",
       "      <td>3.287387</td>\n",
       "      <td>3.335014</td>\n",
       "      <td>2.100371</td>\n",
       "      <td>0.602060</td>\n",
       "      <td>0.003848</td>\n",
       "      <td>0.004292</td>\n",
       "      <td>0.424882</td>\n",
       "      <td>0</td>\n",
       "      <td>0</td>\n",
       "      <td>0</td>\n",
       "    </tr>\n",
       "    <tr>\n",
       "      <td>90000001</td>\n",
       "      <td>0.250000</td>\n",
       "      <td>17</td>\n",
       "      <td>0.393174</td>\n",
       "      <td>5.11</td>\n",
       "      <td>73.0</td>\n",
       "      <td>0.086381</td>\n",
       "      <td>0.015567</td>\n",
       "      <td>1.766562</td>\n",
       "      <td>0.775246</td>\n",
       "      <td>0.277349</td>\n",
       "      <td>1.322219</td>\n",
       "      <td>0.845098</td>\n",
       "      <td>0.035982</td>\n",
       "      <td>0.006709</td>\n",
       "      <td>0.920123</td>\n",
       "      <td>0</td>\n",
       "      <td>0</td>\n",
       "      <td>0</td>\n",
       "    </tr>\n",
       "    <tr>\n",
       "      <td>90000002</td>\n",
       "      <td>0.000000</td>\n",
       "      <td>66</td>\n",
       "      <td>0.422991</td>\n",
       "      <td>0.00</td>\n",
       "      <td>53.0</td>\n",
       "      <td>0.000000</td>\n",
       "      <td>0.000157</td>\n",
       "      <td>6.165861</td>\n",
       "      <td>0.000000</td>\n",
       "      <td>2.362357</td>\n",
       "      <td>0.301030</td>\n",
       "      <td>0.301030</td>\n",
       "      <td>0.000000</td>\n",
       "      <td>0.000068</td>\n",
       "      <td>1.399328</td>\n",
       "      <td>0</td>\n",
       "      <td>0</td>\n",
       "      <td>1</td>\n",
       "    </tr>\n",
       "    <tr>\n",
       "      <td>90000003</td>\n",
       "      <td>0.239130</td>\n",
       "      <td>43</td>\n",
       "      <td>0.296019</td>\n",
       "      <td>5.11</td>\n",
       "      <td>73.0</td>\n",
       "      <td>0.100324</td>\n",
       "      <td>0.007263</td>\n",
       "      <td>5.633308</td>\n",
       "      <td>4.634722</td>\n",
       "      <td>3.494564</td>\n",
       "      <td>1.672098</td>\n",
       "      <td>1.255273</td>\n",
       "      <td>0.041521</td>\n",
       "      <td>0.003143</td>\n",
       "      <td>0.688420</td>\n",
       "      <td>0</td>\n",
       "      <td>0</td>\n",
       "      <td>0</td>\n",
       "    </tr>\n",
       "    <tr>\n",
       "      <td>90000004</td>\n",
       "      <td>0.365079</td>\n",
       "      <td>0</td>\n",
       "      <td>0.067511</td>\n",
       "      <td>0.00</td>\n",
       "      <td>0.0</td>\n",
       "      <td>0.019435</td>\n",
       "      <td>0.006459</td>\n",
       "      <td>7.970143</td>\n",
       "      <td>6.258719</td>\n",
       "      <td>5.780337</td>\n",
       "      <td>1.806180</td>\n",
       "      <td>0.301030</td>\n",
       "      <td>0.008359</td>\n",
       "      <td>0.002796</td>\n",
       "      <td>0.576341</td>\n",
       "      <td>2</td>\n",
       "      <td>0</td>\n",
       "      <td>0</td>\n",
       "    </tr>\n",
       "  </tbody>\n",
       "</table>\n",
       "</div>"
      ],
      "text/plain": [
       "          io_ratio  age  channel_risk  aml_risk_score  cpi_risk_score  \\\n",
       "cif                                                                     \n",
       "90000000  0.304000   40      0.254742            0.00            53.0   \n",
       "90000001  0.250000   17      0.393174            5.11            73.0   \n",
       "90000002  0.000000   66      0.422991            0.00            53.0   \n",
       "90000003  0.239130   43      0.296019            5.11            73.0   \n",
       "90000004  0.365079    0      0.067511            0.00             0.0   \n",
       "\n",
       "          atm_withdrawal_norm  atm_deposit_norm  turnover_log  \\\n",
       "cif                                                             \n",
       "90000000             0.008899          0.009931      5.337807   \n",
       "90000001             0.086381          0.015567      1.766562   \n",
       "90000002             0.000000          0.000157      6.165861   \n",
       "90000003             0.100324          0.007263      5.633308   \n",
       "90000004             0.019435          0.006459      7.970143   \n",
       "\n",
       "          atm_withdrawal_log  atm_deposit_log  transaction_count_log  \\\n",
       "cif                                                                    \n",
       "90000000            3.287387         3.335014               2.100371   \n",
       "90000001            0.775246         0.277349               1.322219   \n",
       "90000002            0.000000         2.362357               0.301030   \n",
       "90000003            4.634722         3.494564               1.672098   \n",
       "90000004            6.258719         5.780337               1.806180   \n",
       "\n",
       "          distinct_counterparties_log  atm_withdrawal_norm_log  \\\n",
       "cif                                                              \n",
       "90000000                     0.602060                 0.003848   \n",
       "90000001                     0.845098                 0.035982   \n",
       "90000002                     0.301030                 0.000000   \n",
       "90000003                     1.255273                 0.041521   \n",
       "90000004                     0.301030                 0.008359   \n",
       "\n",
       "          atm_deposit_norm_log  inactive_days_average_log  new_category  \\\n",
       "cif                                                                       \n",
       "90000000              0.004292                   0.424882             0   \n",
       "90000001              0.006709                   0.920123             0   \n",
       "90000002              0.000068                   1.399328             0   \n",
       "90000003              0.003143                   0.688420             0   \n",
       "90000004              0.002796                   0.576341             2   \n",
       "\n",
       "          no_atm_deposit  no_atm_withdrawal  \n",
       "cif                                          \n",
       "90000000               0                  0  \n",
       "90000001               0                  0  \n",
       "90000002               0                  1  \n",
       "90000003               0                  0  \n",
       "90000004               0                  0  "
      ]
     },
     "execution_count": 13,
     "metadata": {},
     "output_type": "execute_result"
    }
   ],
   "source": [
    "X.head()"
   ]
  },
  {
   "cell_type": "code",
   "execution_count": 14,
   "metadata": {},
   "outputs": [
    {
     "data": {
      "text/plain": [
       "(999232, 18)"
      ]
     },
     "execution_count": 14,
     "metadata": {},
     "output_type": "execute_result"
    }
   ],
   "source": [
    "X.shape"
   ]
  },
  {
   "cell_type": "code",
   "execution_count": 15,
   "metadata": {},
   "outputs": [],
   "source": [
    "y = pd.read_csv('jeopardy.csv', index_col = 0)"
   ]
  },
  {
   "cell_type": "code",
   "execution_count": 16,
   "metadata": {},
   "outputs": [],
   "source": [
    "df = pd.merge(X, y, left_index = True, right_index = True)"
   ]
  },
  {
   "cell_type": "code",
   "execution_count": 17,
   "metadata": {},
   "outputs": [
    {
     "data": {
      "text/html": [
       "<div>\n",
       "<style scoped>\n",
       "    .dataframe tbody tr th:only-of-type {\n",
       "        vertical-align: middle;\n",
       "    }\n",
       "\n",
       "    .dataframe tbody tr th {\n",
       "        vertical-align: top;\n",
       "    }\n",
       "\n",
       "    .dataframe thead th {\n",
       "        text-align: right;\n",
       "    }\n",
       "</style>\n",
       "<table border=\"1\" class=\"dataframe\">\n",
       "  <thead>\n",
       "    <tr style=\"text-align: right;\">\n",
       "      <th></th>\n",
       "      <th>io_ratio</th>\n",
       "      <th>age</th>\n",
       "      <th>channel_risk</th>\n",
       "      <th>aml_risk_score</th>\n",
       "      <th>cpi_risk_score</th>\n",
       "      <th>atm_withdrawal_norm</th>\n",
       "      <th>atm_deposit_norm</th>\n",
       "      <th>turnover_log</th>\n",
       "      <th>atm_withdrawal_log</th>\n",
       "      <th>atm_deposit_log</th>\n",
       "      <th>transaction_count_log</th>\n",
       "      <th>distinct_counterparties_log</th>\n",
       "      <th>atm_withdrawal_norm_log</th>\n",
       "      <th>atm_deposit_norm_log</th>\n",
       "      <th>inactive_days_average_log</th>\n",
       "      <th>new_category</th>\n",
       "      <th>no_atm_deposit</th>\n",
       "      <th>no_atm_withdrawal</th>\n",
       "      <th>suspicious</th>\n",
       "    </tr>\n",
       "    <tr>\n",
       "      <th>cif</th>\n",
       "      <th></th>\n",
       "      <th></th>\n",
       "      <th></th>\n",
       "      <th></th>\n",
       "      <th></th>\n",
       "      <th></th>\n",
       "      <th></th>\n",
       "      <th></th>\n",
       "      <th></th>\n",
       "      <th></th>\n",
       "      <th></th>\n",
       "      <th></th>\n",
       "      <th></th>\n",
       "      <th></th>\n",
       "      <th></th>\n",
       "      <th></th>\n",
       "      <th></th>\n",
       "      <th></th>\n",
       "      <th></th>\n",
       "    </tr>\n",
       "  </thead>\n",
       "  <tbody>\n",
       "    <tr>\n",
       "      <td>90000000</td>\n",
       "      <td>0.304000</td>\n",
       "      <td>40</td>\n",
       "      <td>0.254742</td>\n",
       "      <td>0.00</td>\n",
       "      <td>53.0</td>\n",
       "      <td>0.008899</td>\n",
       "      <td>0.009931</td>\n",
       "      <td>5.337807</td>\n",
       "      <td>3.287387</td>\n",
       "      <td>3.335014</td>\n",
       "      <td>2.100371</td>\n",
       "      <td>0.602060</td>\n",
       "      <td>0.003848</td>\n",
       "      <td>0.004292</td>\n",
       "      <td>0.424882</td>\n",
       "      <td>0</td>\n",
       "      <td>0</td>\n",
       "      <td>0</td>\n",
       "      <td>0</td>\n",
       "    </tr>\n",
       "    <tr>\n",
       "      <td>90000001</td>\n",
       "      <td>0.250000</td>\n",
       "      <td>17</td>\n",
       "      <td>0.393174</td>\n",
       "      <td>5.11</td>\n",
       "      <td>73.0</td>\n",
       "      <td>0.086381</td>\n",
       "      <td>0.015567</td>\n",
       "      <td>1.766562</td>\n",
       "      <td>0.775246</td>\n",
       "      <td>0.277349</td>\n",
       "      <td>1.322219</td>\n",
       "      <td>0.845098</td>\n",
       "      <td>0.035982</td>\n",
       "      <td>0.006709</td>\n",
       "      <td>0.920123</td>\n",
       "      <td>0</td>\n",
       "      <td>0</td>\n",
       "      <td>0</td>\n",
       "      <td>0</td>\n",
       "    </tr>\n",
       "    <tr>\n",
       "      <td>90000002</td>\n",
       "      <td>0.000000</td>\n",
       "      <td>66</td>\n",
       "      <td>0.422991</td>\n",
       "      <td>0.00</td>\n",
       "      <td>53.0</td>\n",
       "      <td>0.000000</td>\n",
       "      <td>0.000157</td>\n",
       "      <td>6.165861</td>\n",
       "      <td>0.000000</td>\n",
       "      <td>2.362357</td>\n",
       "      <td>0.301030</td>\n",
       "      <td>0.301030</td>\n",
       "      <td>0.000000</td>\n",
       "      <td>0.000068</td>\n",
       "      <td>1.399328</td>\n",
       "      <td>0</td>\n",
       "      <td>0</td>\n",
       "      <td>1</td>\n",
       "      <td>0</td>\n",
       "    </tr>\n",
       "    <tr>\n",
       "      <td>90000003</td>\n",
       "      <td>0.239130</td>\n",
       "      <td>43</td>\n",
       "      <td>0.296019</td>\n",
       "      <td>5.11</td>\n",
       "      <td>73.0</td>\n",
       "      <td>0.100324</td>\n",
       "      <td>0.007263</td>\n",
       "      <td>5.633308</td>\n",
       "      <td>4.634722</td>\n",
       "      <td>3.494564</td>\n",
       "      <td>1.672098</td>\n",
       "      <td>1.255273</td>\n",
       "      <td>0.041521</td>\n",
       "      <td>0.003143</td>\n",
       "      <td>0.688420</td>\n",
       "      <td>0</td>\n",
       "      <td>0</td>\n",
       "      <td>0</td>\n",
       "      <td>0</td>\n",
       "    </tr>\n",
       "    <tr>\n",
       "      <td>90000004</td>\n",
       "      <td>0.365079</td>\n",
       "      <td>0</td>\n",
       "      <td>0.067511</td>\n",
       "      <td>0.00</td>\n",
       "      <td>0.0</td>\n",
       "      <td>0.019435</td>\n",
       "      <td>0.006459</td>\n",
       "      <td>7.970143</td>\n",
       "      <td>6.258719</td>\n",
       "      <td>5.780337</td>\n",
       "      <td>1.806180</td>\n",
       "      <td>0.301030</td>\n",
       "      <td>0.008359</td>\n",
       "      <td>0.002796</td>\n",
       "      <td>0.576341</td>\n",
       "      <td>2</td>\n",
       "      <td>0</td>\n",
       "      <td>0</td>\n",
       "      <td>0</td>\n",
       "    </tr>\n",
       "  </tbody>\n",
       "</table>\n",
       "</div>"
      ],
      "text/plain": [
       "          io_ratio  age  channel_risk  aml_risk_score  cpi_risk_score  \\\n",
       "cif                                                                     \n",
       "90000000  0.304000   40      0.254742            0.00            53.0   \n",
       "90000001  0.250000   17      0.393174            5.11            73.0   \n",
       "90000002  0.000000   66      0.422991            0.00            53.0   \n",
       "90000003  0.239130   43      0.296019            5.11            73.0   \n",
       "90000004  0.365079    0      0.067511            0.00             0.0   \n",
       "\n",
       "          atm_withdrawal_norm  atm_deposit_norm  turnover_log  \\\n",
       "cif                                                             \n",
       "90000000             0.008899          0.009931      5.337807   \n",
       "90000001             0.086381          0.015567      1.766562   \n",
       "90000002             0.000000          0.000157      6.165861   \n",
       "90000003             0.100324          0.007263      5.633308   \n",
       "90000004             0.019435          0.006459      7.970143   \n",
       "\n",
       "          atm_withdrawal_log  atm_deposit_log  transaction_count_log  \\\n",
       "cif                                                                    \n",
       "90000000            3.287387         3.335014               2.100371   \n",
       "90000001            0.775246         0.277349               1.322219   \n",
       "90000002            0.000000         2.362357               0.301030   \n",
       "90000003            4.634722         3.494564               1.672098   \n",
       "90000004            6.258719         5.780337               1.806180   \n",
       "\n",
       "          distinct_counterparties_log  atm_withdrawal_norm_log  \\\n",
       "cif                                                              \n",
       "90000000                     0.602060                 0.003848   \n",
       "90000001                     0.845098                 0.035982   \n",
       "90000002                     0.301030                 0.000000   \n",
       "90000003                     1.255273                 0.041521   \n",
       "90000004                     0.301030                 0.008359   \n",
       "\n",
       "          atm_deposit_norm_log  inactive_days_average_log  new_category  \\\n",
       "cif                                                                       \n",
       "90000000              0.004292                   0.424882             0   \n",
       "90000001              0.006709                   0.920123             0   \n",
       "90000002              0.000068                   1.399328             0   \n",
       "90000003              0.003143                   0.688420             0   \n",
       "90000004              0.002796                   0.576341             2   \n",
       "\n",
       "          no_atm_deposit  no_atm_withdrawal  suspicious  \n",
       "cif                                                      \n",
       "90000000               0                  0           0  \n",
       "90000001               0                  0           0  \n",
       "90000002               0                  1           0  \n",
       "90000003               0                  0           0  \n",
       "90000004               0                  0           0  "
      ]
     },
     "execution_count": 17,
     "metadata": {},
     "output_type": "execute_result"
    }
   ],
   "source": [
    "df.head()"
   ]
  },
  {
   "cell_type": "code",
   "execution_count": null,
   "metadata": {},
   "outputs": [],
   "source": []
  },
  {
   "cell_type": "code",
   "execution_count": 18,
   "metadata": {},
   "outputs": [
    {
     "name": "stderr",
     "output_type": "stream",
     "text": [
      "C:\\ProgramData\\Anaconda3\\lib\\site-packages\\pandas\\core\\frame.py:4102: SettingWithCopyWarning: \n",
      "A value is trying to be set on a copy of a slice from a DataFrame\n",
      "\n",
      "See the caveats in the documentation: http://pandas.pydata.org/pandas-docs/stable/user_guide/indexing.html#returning-a-view-versus-a-copy\n",
      "  errors=errors,\n"
     ]
    }
   ],
   "source": [
    "data_0 = df[df['new_category'] == 0]\n",
    "data_0.drop(['new_category'], axis=1, inplace = True)"
   ]
  },
  {
   "cell_type": "code",
   "execution_count": 19,
   "metadata": {},
   "outputs": [],
   "source": [
    "data_1 = df[df['new_category'] == 1]\n",
    "data_1.drop(['new_category'], axis=1, inplace = True)"
   ]
  },
  {
   "cell_type": "code",
   "execution_count": 20,
   "metadata": {},
   "outputs": [],
   "source": [
    "data_2 = df[df['new_category'] == 2]\n",
    "data_2.drop(['new_category'], axis=1, inplace = True)"
   ]
  },
  {
   "cell_type": "code",
   "execution_count": 21,
   "metadata": {},
   "outputs": [],
   "source": [
    "data_3 = df[df['new_category'] == 3]\n",
    "data_3.drop(['new_category'], axis=1, inplace = True)"
   ]
  },
  {
   "cell_type": "markdown",
   "metadata": {},
   "source": [
    "## Check class balance"
   ]
  },
  {
   "cell_type": "code",
   "execution_count": 22,
   "metadata": {},
   "outputs": [
    {
     "data": {
      "text/plain": [
       "0    982094\n",
       "1     17138\n",
       "Name: suspicious, dtype: int64"
      ]
     },
     "execution_count": 22,
     "metadata": {},
     "output_type": "execute_result"
    }
   ],
   "source": [
    "# all dataset\n",
    "df['suspicious'].value_counts()"
   ]
  },
  {
   "cell_type": "code",
   "execution_count": 23,
   "metadata": {},
   "outputs": [
    {
     "data": {
      "image/png": "[encoded data removed]",
      "text/plain": [
       "<Figure size 432x288 with 1 Axes>"
      ]
     },
     "metadata": {},
     "output_type": "display_data"
    }
   ],
   "source": [
    "sns.set()\n",
    "df['suspicious'].value_counts().plot(kind = 'bar')\n",
    "plt.xlabel('Fraud')\n",
    "plt.ylabel('Number')\n",
    "plt.title('Count of Fraud (large dataset)')\n",
    "None"
   ]
  },
  {
   "cell_type": "code",
   "execution_count": 24,
   "metadata": {},
   "outputs": [
    {
     "data": {
      "text/plain": [
       "0    678286\n",
       "1     13930\n",
       "Name: suspicious, dtype: int64"
      ]
     },
     "execution_count": 24,
     "metadata": {},
     "output_type": "execute_result"
    }
   ],
   "source": [
    "# normal individuals\n",
    "data_0['suspicious'].value_counts()"
   ]
  },
  {
   "cell_type": "code",
   "execution_count": 25,
   "metadata": {},
   "outputs": [
    {
     "data": {
      "text/plain": [
       "0    197855\n",
       "1      2080\n",
       "Name: suspicious, dtype: int64"
      ]
     },
     "execution_count": 25,
     "metadata": {},
     "output_type": "execute_result"
    }
   ],
   "source": [
    "# companies\n",
    "data_1['suspicious'].value_counts()"
   ]
  },
  {
   "cell_type": "code",
   "execution_count": 26,
   "metadata": {},
   "outputs": [
    {
     "data": {
      "text/plain": [
       "0    99166\n",
       "1     1069\n",
       "Name: suspicious, dtype: int64"
      ]
     },
     "execution_count": 26,
     "metadata": {},
     "output_type": "execute_result"
    }
   ],
   "source": [
    "# other institutions\n",
    "data_2['suspicious'].value_counts()"
   ]
  },
  {
   "cell_type": "code",
   "execution_count": 27,
   "metadata": {},
   "outputs": [
    {
     "data": {
      "text/plain": [
       "0    6787\n",
       "1      59\n",
       "Name: suspicious, dtype: int64"
      ]
     },
     "execution_count": 27,
     "metadata": {},
     "output_type": "execute_result"
    }
   ],
   "source": [
    "# pep\n",
    "data_3['suspicious'].value_counts()"
   ]
  },
  {
   "cell_type": "markdown",
   "metadata": {},
   "source": [
    "## train-test split"
   ]
  },
  {
   "cell_type": "code",
   "execution_count": 28,
   "metadata": {},
   "outputs": [],
   "source": [
    "y = df['suspicious']\n",
    "\n",
    "df.drop(columns = 'suspicious', inplace = True)\n",
    "X = df"
   ]
  },
  {
   "cell_type": "code",
   "execution_count": 29,
   "metadata": {},
   "outputs": [],
   "source": [
    "y_0 = data_0['suspicious']\n",
    "\n",
    "data_0.drop(columns = 'suspicious', inplace = True)\n",
    "X_0 = data_0"
   ]
  },
  {
   "cell_type": "code",
   "execution_count": 30,
   "metadata": {},
   "outputs": [],
   "source": [
    "y_1 = data_1['suspicious']\n",
    "\n",
    "data_1.drop(columns = 'suspicious', inplace = True)\n",
    "X_1 = data_1"
   ]
  },
  {
   "cell_type": "code",
   "execution_count": 31,
   "metadata": {},
   "outputs": [],
   "source": [
    "y_2 = data_2['suspicious']\n",
    "\n",
    "data_2.drop(columns = 'suspicious', inplace = True)\n",
    "X_2 = data_2"
   ]
  },
  {
   "cell_type": "code",
   "execution_count": 32,
   "metadata": {},
   "outputs": [],
   "source": [
    "y_3 = data_3['suspicious']\n",
    "\n",
    "data_3.drop(columns = 'suspicious', inplace = True)\n",
    "X_3 = data_3"
   ]
  },
  {
   "cell_type": "code",
   "execution_count": 33,
   "metadata": {},
   "outputs": [],
   "source": [
    "X_train, X_test, y_train, y_test = train_test_split(X, y, test_size=0.3, random_state=42)\n",
    "X_train_0, X_test_0, y_train_0, y_test_0 = train_test_split(X_0, y_0, test_size=0.3, random_state=42)\n",
    "X_train_1, X_test_1, y_train_1, y_test_1 = train_test_split(X_1, y_1, test_size=0.3, random_state=42)\n",
    "X_train_2, X_test_2, y_train_2, y_test_2 = train_test_split(X_2, y_2, test_size=0.3, random_state=42)\n",
    "X_train_3, X_test_3, y_train_3, y_test_3 = train_test_split(X_3, y_3, test_size=0.3, random_state=42)"
   ]
  },
  {
   "cell_type": "markdown",
   "metadata": {},
   "source": [
    "## Upsampling on training set"
   ]
  },
  {
   "cell_type": "code",
   "execution_count": 34,
   "metadata": {},
   "outputs": [],
   "source": [
    "def upsampling_train(X_train, y_train):\n",
    "    \n",
    "    # seperate minority and majority class\n",
    "    df_majority_X = X_train[y_train == 0]\n",
    "    df_minority_X = X_train[y_train == 1]\n",
    "    \n",
    "    df_majority_y = y_train[y_train == 0]\n",
    "    df_minority_y = y_train[y_train == 1]\n",
    "    \n",
    "    # minority and majority df\n",
    "    df_min = pd.merge(df_majority_X, df_majority_y, left_index = True, right_index = True)\n",
    "    df_maj = pd.merge(df_minority_X, df_minority_y, left_index = True, right_index = True)\n",
    "\n",
    "    # get the upsample number\n",
    "    upsample_number = y_train.value_counts()[0]\n",
    "\n",
    "    # upsample minority class\n",
    "    df_minority_upsampled = resample(df_min,\n",
    "                                    replace = True,\n",
    "                                    n_samples = upsample_number,\n",
    "                                    random_state = 123)\n",
    "\n",
    "    # combine majority class with upsampled minority class\n",
    "    df_upsampled = pd.concat([df_maj, df_minority_upsampled])\n",
    "\n",
    "    df_shuffled = shuffle(df_upsampled, random_state = 37)\n",
    "\n",
    "    df_upsampled_X_shuffled = df_shuffled.iloc[:,:-1]\n",
    "    df_upsampled_y_shuffled = df_shuffled.iloc[:,-1]\n",
    "    \n",
    "    return df_upsampled_X_shuffled, df_upsampled_y_shuffled "
   ]
  },
  {
   "cell_type": "code",
   "execution_count": 35,
   "metadata": {},
   "outputs": [],
   "source": [
    "X_train_up, y_train_up = upsampling_train(X_train, y_train)\n",
    "X_train_0_up, y_train_0_up = upsampling_train(X_train_0, y_train_0)\n",
    "X_train_1_up, y_train_1_up = upsampling_train(X_train_1, y_train_1)\n",
    "X_train_2_up, y_train_2_up = upsampling_train(X_train_2, y_train_2)\n",
    "X_train_3_up, y_train_3_up = upsampling_train(X_train_3, y_train_3)"
   ]
  },
  {
   "cell_type": "markdown",
   "metadata": {},
   "source": [
    "## Models"
   ]
  },
  {
   "cell_type": "markdown",
   "metadata": {},
   "source": [
    "### Architecture and parameters"
   ]
  },
  {
   "cell_type": "code",
   "execution_count": 36,
   "metadata": {},
   "outputs": [],
   "source": [
    "dectree = DecisionTreeClassifier(random_state = 12)\n",
    "svm = SVC (C = 1, gamma = 'scale', random_state = 12, probability=True)"
   ]
  },
  {
   "cell_type": "markdown",
   "metadata": {},
   "source": [
    "## Crossvalidation on training set"
   ]
  },
  {
   "cell_type": "code",
   "execution_count": 38,
   "metadata": {},
   "outputs": [],
   "source": [
    "cv_choice = 5"
   ]
  },
  {
   "cell_type": "code",
   "execution_count": 38,
   "metadata": {},
   "outputs": [
    {
     "name": "stdout",
     "output_type": "stream",
     "text": [
      "Cross Validated Scores 0.9763546842362885\n"
     ]
    }
   ],
   "source": [
    "scores_tree = cross_val_score(dectree, X_train_up, y_train_up, scoring='f1_micro', cv = cv_choice)\n",
    "print('Cross Validated Scores', sum(scores_tree)/cv_choice)"
   ]
  },
  {
   "cell_type": "code",
   "execution_count": null,
   "metadata": {},
   "outputs": [],
   "source": [
    "scores_svm = cross_val_score(svm, X_train_up, y_train_up, scoring='f1_micro', cv = cv_choice)\n",
    "print('Cross Validated Scores', sum(scores_svm)/cv_choice)"
   ]
  },
  {
   "cell_type": "markdown",
   "metadata": {},
   "source": [
    "### Data filtered by category 0 (normal individuals)"
   ]
  },
  {
   "cell_type": "code",
   "execution_count": 39,
   "metadata": {},
   "outputs": [
    {
     "name": "stdout",
     "output_type": "stream",
     "text": [
      "Cross Validated Scores 0.9723310892878599\n"
     ]
    }
   ],
   "source": [
    "scores_tree_0 = cross_val_score(dectree, X_train_0_up, y_train_0_up, scoring='f1_micro', cv = cv_choice)\n",
    "print('Cross Validated Scores', sum(scores_tree_0)/cv_choice)"
   ]
  },
  {
   "cell_type": "code",
   "execution_count": null,
   "metadata": {},
   "outputs": [],
   "source": [
    "scores_svm_0 = cross_val_score(svm, X_train_0_up, y_train_0_up, scoring='f1_micro', cv = cv_choice)\n",
    "print('Cross Validated Scores', sum(scores_svm_0)/cv_choice)"
   ]
  },
  {
   "cell_type": "markdown",
   "metadata": {},
   "source": [
    "### Data filtered by category 1 (companies)"
   ]
  },
  {
   "cell_type": "code",
   "execution_count": 40,
   "metadata": {},
   "outputs": [
    {
     "name": "stdout",
     "output_type": "stream",
     "text": [
      "Cross Validated Scores 0.9865098490482236\n"
     ]
    }
   ],
   "source": [
    "scores_tree_1 = cross_val_score(dectree, X_train_1_up, y_train_1_up, scoring='f1_micro', cv = cv_choice)\n",
    "print('Cross Validated Scores', sum(scores_tree_1)/cv_choice)"
   ]
  },
  {
   "cell_type": "code",
   "execution_count": null,
   "metadata": {},
   "outputs": [],
   "source": [
    "scores_svm_1 = cross_val_score(svm, X_train_1_up, y_train_1_up, scoring='f1_micro', cv = cv_choice)\n",
    "print('Cross Validated Scores', sum(scores_svm_1)/cv_choice)"
   ]
  },
  {
   "cell_type": "markdown",
   "metadata": {},
   "source": [
    "### Data filtered by category 2 (other institutions)"
   ]
  },
  {
   "cell_type": "code",
   "execution_count": 41,
   "metadata": {},
   "outputs": [
    {
     "name": "stdout",
     "output_type": "stream",
     "text": [
      "Cross Validated Scores 0.9855766595452111\n"
     ]
    }
   ],
   "source": [
    "scores_tree_2 = cross_val_score(dectree, X_train_2_up, y_train_2_up, scoring='f1_micro', cv = cv_choice)\n",
    "print('Cross Validated Scores', sum(scores_tree_2)/cv_choice)"
   ]
  },
  {
   "cell_type": "code",
   "execution_count": 55,
   "metadata": {},
   "outputs": [
    {
     "name": "stdout",
     "output_type": "stream",
     "text": [
      "Cross Validated Scores 0.989025711182007\n"
     ]
    }
   ],
   "source": [
    "scores_svm_2 = cross_val_score(svm, X_train_2_up, y_train_2_up, scoring='f1_micro', cv = cv_choice)\n",
    "print('Cross Validated Scores', sum(scores_svm_2)/cv_choice)"
   ]
  },
  {
   "cell_type": "markdown",
   "metadata": {},
   "source": [
    "### Data filtered by category 3 (individuals, is_pep = 1)"
   ]
  },
  {
   "cell_type": "code",
   "execution_count": 42,
   "metadata": {},
   "outputs": [
    {
     "name": "stdout",
     "output_type": "stream",
     "text": [
      "Cross Validated Scores 0.9860188328442995\n"
     ]
    }
   ],
   "source": [
    "scores_tree_3 = cross_val_score(dectree, X_train_3_up, y_train_3_up, scoring='f1_micro', cv = cv_choice)\n",
    "print('Cross Validated Scores', sum(scores_tree_3)/cv_choice)"
   ]
  },
  {
   "cell_type": "code",
   "execution_count": 53,
   "metadata": {},
   "outputs": [
    {
     "name": "stdout",
     "output_type": "stream",
     "text": [
      "Cross Validated Scores 0.9908183287830458\n"
     ]
    }
   ],
   "source": [
    "scores_svm_3 = cross_val_score(svm, X_train_3_up, y_train_3_up, scoring='f1_micro', cv = cv_choice)\n",
    "print('Cross Validated Scores', sum(scores_svm_3)/cv_choice)"
   ]
  },
  {
   "cell_type": "markdown",
   "metadata": {},
   "source": [
    "## Test on imbalanced test data"
   ]
  },
  {
   "cell_type": "code",
   "execution_count": 43,
   "metadata": {},
   "outputs": [],
   "source": [
    "def final_test(X_train, y_train, X_test, y_test, model):\n",
    "    model = model.fit(X_train,y_train)\n",
    "    y_pred = model.predict(X_test)\n",
    "    \n",
    "    print(classification_report(y_test, y_pred))"
   ]
  },
  {
   "cell_type": "markdown",
   "metadata": {},
   "source": [
    "### All data"
   ]
  },
  {
   "cell_type": "code",
   "execution_count": 44,
   "metadata": {},
   "outputs": [
    {
     "name": "stdout",
     "output_type": "stream",
     "text": [
      "              precision    recall  f1-score   support\n",
      "\n",
      "           0       0.99      0.97      0.98    294675\n",
      "           1       0.15      0.25      0.19      5095\n",
      "\n",
      "    accuracy                           0.96    299770\n",
      "   macro avg       0.57      0.61      0.58    299770\n",
      "weighted avg       0.97      0.96      0.97    299770\n",
      "\n"
     ]
    }
   ],
   "source": [
    "final_test(X_train_up, y_train_up, X_test, y_test, dectree)"
   ]
  },
  {
   "cell_type": "code",
   "execution_count": null,
   "metadata": {},
   "outputs": [],
   "source": [
    "final_test(X_train_up, y_train_up, X_test, y_test, svm)"
   ]
  },
  {
   "cell_type": "markdown",
   "metadata": {},
   "source": [
    "### Data filtered by category 0 (normal individuals)"
   ]
  },
  {
   "cell_type": "code",
   "execution_count": 45,
   "metadata": {},
   "outputs": [
    {
     "name": "stdout",
     "output_type": "stream",
     "text": [
      "              precision    recall  f1-score   support\n",
      "\n",
      "           0       0.98      0.97      0.98    203468\n",
      "           1       0.15      0.25      0.18      4197\n",
      "\n",
      "    accuracy                           0.96    207665\n",
      "   macro avg       0.57      0.61      0.58    207665\n",
      "weighted avg       0.97      0.96      0.96    207665\n",
      "\n"
     ]
    }
   ],
   "source": [
    "final_test(X_train_0_up, y_train_0_up, X_test_0, y_test_0, dectree)"
   ]
  },
  {
   "cell_type": "code",
   "execution_count": null,
   "metadata": {},
   "outputs": [],
   "source": [
    "final_test(X_train_0_up, y_train_0_up, X_test_0, y_test_0, svm)"
   ]
  },
  {
   "cell_type": "markdown",
   "metadata": {},
   "source": [
    "### Data filtered by category 1 (companies)"
   ]
  },
  {
   "cell_type": "code",
   "execution_count": 47,
   "metadata": {},
   "outputs": [
    {
     "name": "stdout",
     "output_type": "stream",
     "text": [
      "              precision    recall  f1-score   support\n",
      "\n",
      "           0       0.99      0.99      0.99     59356\n",
      "           1       0.15      0.24      0.19       625\n",
      "\n",
      "    accuracy                           0.98     59981\n",
      "   macro avg       0.57      0.61      0.59     59981\n",
      "weighted avg       0.98      0.98      0.98     59981\n",
      "\n"
     ]
    }
   ],
   "source": [
    "final_test(X_train_1_up, y_train_1_up, X_test_1, y_test_1, dectree)"
   ]
  },
  {
   "cell_type": "code",
   "execution_count": null,
   "metadata": {},
   "outputs": [],
   "source": [
    "final_test(X_train_1_up, y_train_1_up, X_test_1, y_test_1, svm)"
   ]
  },
  {
   "cell_type": "markdown",
   "metadata": {},
   "source": [
    "### Data filtered by category 2 (other institutions)"
   ]
  },
  {
   "cell_type": "code",
   "execution_count": 48,
   "metadata": {},
   "outputs": [
    {
     "name": "stdout",
     "output_type": "stream",
     "text": [
      "              precision    recall  f1-score   support\n",
      "\n",
      "           0       0.99      0.99      0.99     29772\n",
      "           1       0.16      0.26      0.19       299\n",
      "\n",
      "    accuracy                           0.98     30071\n",
      "   macro avg       0.57      0.62      0.59     30071\n",
      "weighted avg       0.98      0.98      0.98     30071\n",
      "\n"
     ]
    }
   ],
   "source": [
    "final_test(X_train_2_up, y_train_2_up, X_test_2, y_test_2, dectree)"
   ]
  },
  {
   "cell_type": "code",
   "execution_count": 56,
   "metadata": {},
   "outputs": [
    {
     "name": "stdout",
     "output_type": "stream",
     "text": [
      "              precision    recall  f1-score   support\n",
      "\n",
      "           0       0.99      1.00      1.00     29772\n",
      "           1       0.00      0.00      0.00       299\n",
      "\n",
      "    accuracy                           0.99     30071\n",
      "   macro avg       0.50      0.50      0.50     30071\n",
      "weighted avg       0.98      0.99      0.99     30071\n",
      "\n"
     ]
    },
    {
     "name": "stderr",
     "output_type": "stream",
     "text": [
      "C:\\ProgramData\\Anaconda3\\lib\\site-packages\\sklearn\\metrics\\classification.py:1437: UndefinedMetricWarning: Precision and F-score are ill-defined and being set to 0.0 in labels with no predicted samples.\n",
      "  'precision', 'predicted', average, warn_for)\n"
     ]
    }
   ],
   "source": [
    "final_test(X_train_2_up, y_train_2_up, X_test_2, y_test_2, svm)"
   ]
  },
  {
   "cell_type": "markdown",
   "metadata": {},
   "source": [
    "### Data filtered by category 3 (individuals, is_pep = 1)"
   ]
  },
  {
   "cell_type": "code",
   "execution_count": 49,
   "metadata": {},
   "outputs": [
    {
     "name": "stdout",
     "output_type": "stream",
     "text": [
      "              precision    recall  f1-score   support\n",
      "\n",
      "           0       0.99      0.98      0.99      2039\n",
      "           1       0.05      0.13      0.07        15\n",
      "\n",
      "    accuracy                           0.97      2054\n",
      "   macro avg       0.52      0.56      0.53      2054\n",
      "weighted avg       0.99      0.97      0.98      2054\n",
      "\n"
     ]
    }
   ],
   "source": [
    "final_test(X_train_3_up, y_train_3_up, X_test_3, y_test_3, dectree)"
   ]
  },
  {
   "cell_type": "code",
   "execution_count": 54,
   "metadata": {},
   "outputs": [
    {
     "name": "stdout",
     "output_type": "stream",
     "text": [
      "              precision    recall  f1-score   support\n",
      "\n",
      "           0       0.99      1.00      1.00      2039\n",
      "           1       0.00      0.00      0.00        15\n",
      "\n",
      "    accuracy                           0.99      2054\n",
      "   macro avg       0.50      0.50      0.50      2054\n",
      "weighted avg       0.99      0.99      0.99      2054\n",
      "\n"
     ]
    },
    {
     "name": "stderr",
     "output_type": "stream",
     "text": [
      "C:\\ProgramData\\Anaconda3\\lib\\site-packages\\sklearn\\metrics\\classification.py:1437: UndefinedMetricWarning: Precision and F-score are ill-defined and being set to 0.0 in labels with no predicted samples.\n",
      "  'precision', 'predicted', average, warn_for)\n"
     ]
    }
   ],
   "source": [
    "final_test(X_train_3_up, y_train_3_up, X_test_3, y_test_3, svm)"
   ]
  },
  {
   "cell_type": "markdown",
   "metadata": {},
   "source": [
    "## Plotting example decision tree for category 3"
   ]
  },
  {
   "cell_type": "code",
   "execution_count": 52,
   "metadata": {},
   "outputs": [
    {
     "data": {
      "image/png": "[encoded data removed]",
      "text/plain": [
       "<Figure size 360x360 with 1 Axes>"
      ]
     },
     "metadata": {},
     "output_type": "display_data"
    },
    {
     "data": {
      "text/plain": [
       "<Figure size 432x288 with 0 Axes>"
      ]
     },
     "metadata": {},
     "output_type": "display_data"
    }
   ],
   "source": [
    "plt.figure(figsize = (5,5))\n",
    "tree.plot_tree(dectree.fit(X_train_3,y_train_3), filled=True)\n",
    "plt.show()\n",
    "plt.savefig('tree_cat_3.png')\n",
    "None"
   ]
  },
  {
   "cell_type": "code",
   "execution_count": null,
   "metadata": {},
   "outputs": [],
   "source": []
  }
 ],
 "metadata": {
  "kernelspec": {
   "display_name": "Python 3",
   "language": "python",
   "name": "python3"
  },
  "language_info": {
   "codemirror_mode": {
    "name": "ipython",
    "version": 3
   },
   "file_extension": ".py",
   "mimetype": "text/x-python",
   "name": "python",
   "nbconvert_exporter": "python",
   "pygments_lexer": "ipython3",
   "version": "3.7.4"
  }
 },
 "nbformat": 4,
 "nbformat_minor": 4
}
